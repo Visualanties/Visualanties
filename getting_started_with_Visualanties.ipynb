{
  "cells": [
    {
      "cell_type": "markdown",
      "metadata": {
        "colab_type": "text",
        "id": "view-in-github"
      },
      "source": [
        "<a href=\"https://colab.research.google.com/github/frankolious/Visualanties/blob/main/getting_started_with_Visualanties.ipynb\" target=\"_parent\"><img src=\"https://colab.research.google.com/assets/colab-badge.svg\" alt=\"Open In Colab\"/></a>"
      ]
    },
    {
      "cell_type": "code",
      "execution_count": 1,
      "metadata": {
        "colab": {
          "base_uri": "https://localhost:8080/"
        },
        "id": "R038R-4YqZTN",
        "outputId": "19ac1963-51cf-4c7f-985c-5c4bc4333e6c"
      },
      "outputs": [
        {
          "name": "stdout",
          "output_type": "stream",
          "text": [
            "oi hello {name} Welcome to the getting Started section of The Visualanties Tooling System for event organisers and live performances\n"
          ]
        }
      ],
      "source": [
        "welcomeMsg = \"hello {name} Welcome to the getting Started section \"\n",
        "whatMsg = \"of The Visualanties Tooling System for event organisers and live performances\"\n",
        "name = \"mum\"\n",
        "msg = welcomeMsg + whatMsg\n",
        "print(f\"oi {msg}\")"
      ]
    },
    {
      "cell_type": "markdown",
      "metadata": {
        "id": "rg4jlws3qiuF"
      },
      "source": [
        "Getting started with the Visualanties System and the related interconnected cointainterized services."
      ]
    },
    {
      "cell_type": "code",
      "execution_count": null,
      "metadata": {
        "id": "zjrsj3xfsRNI"
      },
      "outputs": [],
      "source": []
    }
  ],
  "metadata": {
    "colab": {
      "authorship_tag": "ABX9TyPNVI5d+RzDKhloj2Z/4nK6",
      "include_colab_link": true,
      "provenance": []
    },
    "kernelspec": {
      "display_name": "Python 3",
      "language": "python",
      "name": "python3"
    },
    "language_info": {
      "codemirror_mode": {
        "name": "ipython",
        "version": 3
      },
      "file_extension": ".py",
      "mimetype": "text/x-python",
      "name": "python",
      "nbconvert_exporter": "python",
      "pygments_lexer": "ipython3",
      "version": "3.10.0"
    },
    "vscode": {
      "interpreter": {
        "hash": "aee8b7b246df8f9039afb4144a1f6fd8d2ca17a180786b69acc140d282b71a49"
      }
    }
  },
  "nbformat": 4,
  "nbformat_minor": 0
}
