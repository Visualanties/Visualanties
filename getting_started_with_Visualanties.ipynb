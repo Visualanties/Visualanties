{
  "nbformat": 4,
  "nbformat_minor": 0,
  "metadata": {
    "colab": {
      "provenance": [],
      "authorship_tag": "ABX9TyPNVI5d+RzDKhloj2Z/4nK6",
      "include_colab_link": true
    },
    "kernelspec": {
      "name": "python3",
      "display_name": "Python 3"
    },
    "language_info": {
      "name": "python"
    }
  },
  "cells": [
    {
      "cell_type": "markdown",
      "metadata": {
        "id": "view-in-github",
        "colab_type": "text"
      },
      "source": [
        "<a href=\"https://colab.research.google.com/github/frankolious/Visualanties/blob/main/getting_started_with_Visualanties.ipynb\" target=\"_parent\"><img src=\"https://colab.research.google.com/assets/colab-badge.svg\" alt=\"Open In Colab\"/></a>"
      ]
    },
    {
      "cell_type": "code",
      "execution_count": 12,
      "metadata": {
        "colab": {
          "base_uri": "https://localhost:8080/"
        },
        "id": "R038R-4YqZTN",
        "outputId": "19ac1963-51cf-4c7f-985c-5c4bc4333e6c"
      },
      "outputs": [
        {
          "output_type": "stream",
          "name": "stdout",
          "text": [
            "oi hello {name} Welcome to the getting Started section of The Visualanties Tooling System for event organisers and live performances\n"
          ]
        }
      ],
      "source": [
        "welcomeMsg = \"hello {name} Welcome to the getting Started section \"\n",
        "whatMsg = \"of The Visualanties Tooling System for event organisers and live performances\"\n",
        "name = \"mum\"\n",
        "msg = welcomeMsg + whatMsg\n",
        "print(f\"oi {msg}\")"
      ]
    },
    {
      "cell_type": "markdown",
      "source": [
        "Getting started with the Visualanties System and the related interconnected cointainterized services."
      ],
      "metadata": {
        "id": "rg4jlws3qiuF"
      }
    },
    {
      "cell_type": "code",
      "source": [],
      "metadata": {
        "id": "zjrsj3xfsRNI"
      },
      "execution_count": null,
      "outputs": []
    }
  ]
}